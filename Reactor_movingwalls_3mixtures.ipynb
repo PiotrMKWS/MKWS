{
 "cells": [
  {
   "cell_type": "code",
   "execution_count": 14,
   "metadata": {},
   "outputs": [
    {
     "name": "stdout",
     "output_type": "stream",
     "text": [
      "['H2', 'H', 'O', 'O2', 'OH', 'H2O', 'HO2', 'H2O2', 'C', 'CH', 'CH2', 'CH2(S)', 'CH3', 'CH4', 'CO', 'CO2', 'HCO', 'CH2O', 'CH2OH', 'CH3O', 'CH3OH', 'C2H', 'C2H2', 'C2H3', 'C2H4', 'C2H5', 'C2H6', 'HCCO', 'CH2CO', 'HCCOH', 'N', 'NH', 'NH2', 'NH3', 'NNH', 'NO', 'NO2', 'N2O', 'HNO', 'CN', 'HCN', 'H2CN', 'HCNN', 'HCNO', 'HOCN', 'HNCO', 'NCO', 'N2', 'AR', 'C3H7', 'C3H8', 'CH2CHO', 'CH3CHO']\n"
     ]
    }
   ],
   "source": [
    "#cp_major = major.partial_molar_cp\n",
    "#wdot_major = major.net_production_rates\n",
    "#print(cp_major)\n",
    "#print(wdot_major) \n",
    "\n",
    "import cantera as ct\n",
    "import numpy as np\n",
    "\n",
    "#use reaction mechanism GRI-Mech 3.0\n",
    "methane = ct.Solution('gri30.xml')\n",
    "ethane = ct.Solution('gri30.xml')\n",
    "propane = ct.Solution('gri30.xml')\n",
    "#define stechiometric fuel and gas mixtures\n",
    "methane.TPX = 1200, ct.one_atm, 'CH4:1, O2:2, N2:7.52'\n",
    "ethane.TPX = 1200, ct.one_atm, 'C2H6:1, O2:3.5, N2:13.6'\n",
    "propane.TPX = 1200, ct.one_atm, 'C3H8:1, O2:5, N2:18.8'\n",
    "#define reactors\n",
    "combustor = ct.Reactor(methane)\n",
    "igniter = ct.Reactor(methane)\n",
    "crankcase = ct.Reservoir\n",
    "\n",
    "print(methane.species_names)"
   ]
  },
  {
   "cell_type": "code",
   "execution_count": null,
   "metadata": {},
   "outputs": [],
   "source": []
  }
 ],
 "metadata": {
  "kernelspec": {
   "display_name": "Python 3",
   "language": "python",
   "name": "python3"
  },
  "language_info": {
   "codemirror_mode": {
    "name": "ipython",
    "version": 3
   },
   "file_extension": ".py",
   "mimetype": "text/x-python",
   "name": "python",
   "nbconvert_exporter": "python",
   "pygments_lexer": "ipython3",
   "version": "3.6.5"
  }
 },
 "nbformat": 4,
 "nbformat_minor": 2
}
